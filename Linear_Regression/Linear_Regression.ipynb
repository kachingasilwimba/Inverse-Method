{
 "cells": [
  {
   "attachments": {},
   "cell_type": "markdown",
   "id": "19cdf94c",
   "metadata": {},
   "source": [
    "# Packages"
   ]
  },
  {
   "cell_type": "code",
   "execution_count": 1,
   "id": "4e040fe0",
   "metadata": {},
   "outputs": [],
   "source": [
    "import numpy as np\n",
    "import scipy.stats as stats\n",
    "from scipy.stats import chi2\n",
    "import statsmodels.api as sms\n",
    "import matplotlib.pyplot as plt \n",
    "from scipy.stats import t, probplot\n"
   ]
  },
  {
   "cell_type": "markdown",
   "id": "a5f790fe",
   "metadata": {},
   "source": [
    "# Exercise 1"
   ]
  },
  {
   "cell_type": "markdown",
   "id": "55a8a572",
   "metadata": {},
   "source": [
    "## Generating the data "
   ]
  },
  {
   "cell_type": "code",
   "execution_count": 2,
   "id": "0d4810c0",
   "metadata": {},
   "outputs": [
    {
     "data": {
      "text/plain": [
       "array([[ 1.    ,  6.    ],\n",
       "       [ 1.    , 10.1333],\n",
       "       [ 1.    , 14.2667],\n",
       "       [ 1.    , 18.4   ],\n",
       "       [ 1.    , 22.5333],\n",
       "       [ 1.    , 26.6667]])"
      ]
     },
     "execution_count": 2,
     "metadata": {},
     "output_type": "execute_result"
    }
   ],
   "source": [
    "#============== data (d) matrix\n",
    "d = np.array([3.4935,4.2853,5.1374,5.8181,6.8632,8.1841])\n",
    "\n",
    "#============== G matrix\n",
    "x = np.array([6.0000,10.1333,14.2667,18.4000,22.5333,26.6667])\n",
    "G = np.ones((6,2))\n",
    "G[:,1] = x\n",
    "G"
   ]
  },
  {
   "cell_type": "code",
   "execution_count": 3,
   "id": "a8efa935",
   "metadata": {},
   "outputs": [
    {
     "data": {
      "text/plain": [
       "array([[ 10.   ,  60.   ],\n",
       "       [ 10.   , 101.333],\n",
       "       [ 10.   , 142.667],\n",
       "       [ 10.   , 184.   ],\n",
       "       [ 10.   , 225.333],\n",
       "       [ 10.   , 266.667]])"
      ]
     },
     "execution_count": 3,
     "metadata": {},
     "output_type": "execute_result"
    }
   ],
   "source": [
    "#============== Weighted G\n",
    "sigma = 0.1 \n",
    "m = 6\n",
    "n = 2\n",
    "noise_data = sigma*np.ones((m))\n",
    "Gw = np.ones((m,n))\n",
    "\n",
    "for i in range(m):\n",
    "    Gw[i,:] = G[i,:]/noise_data[i]\n",
    "Gw"
   ]
  },
  {
   "cell_type": "code",
   "execution_count": 4,
   "id": "52235792",
   "metadata": {},
   "outputs": [
    {
     "data": {
      "text/plain": [
       "array([34.935, 42.853, 51.374, 58.181, 68.632, 81.841])"
      ]
     },
     "execution_count": 4,
     "metadata": {},
     "output_type": "execute_result"
    }
   ],
   "source": [
    "#============== Weighted d\n",
    "dw = d/noise_data\n",
    "dw"
   ]
  },
  {
   "cell_type": "markdown",
   "id": "eaeed1a1",
   "metadata": {},
   "source": [
    "## Q1"
   ]
  },
  {
   "cell_type": "code",
   "execution_count": 5,
   "id": "f00dda0d",
   "metadata": {},
   "outputs": [
    {
     "name": "stdout",
     "output_type": "stream",
     "text": [
      "The least square solution for t_0 and s_2 is [2.03233708 0.2202814 ], respectively.\n"
     ]
    }
   ],
   "source": [
    "#============== Least square solution\n",
    "m_L2 = np.linalg.lstsq(Gw,dw,rcond=None)[0]\n",
    "print(f'The least square solution for t_0 and s_2 is {m_L2}, respectively.')"
   ]
  },
  {
   "cell_type": "code",
   "execution_count": 6,
   "id": "ed19e15a",
   "metadata": {},
   "outputs": [
    {
     "data": {
      "text/plain": [
       "array([3.3540255 , 4.26451463, 5.17502578, 6.0855149 , 6.99600402,\n",
       "       7.90651517])"
      ]
     },
     "execution_count": 6,
     "metadata": {},
     "output_type": "execute_result"
    }
   ],
   "source": [
    "#============== Fitted model \n",
    "d_fitted = m_L2[0] + m_L2[1]*x\n",
    "d_fitted"
   ]
  },
  {
   "cell_type": "code",
   "execution_count": 7,
   "id": "044e14a4",
   "metadata": {},
   "outputs": [
    {
     "data": {
      "image/png": "[encoded data removed]",
      "text/plain": [
       "<Figure size 432x360 with 1 Axes>"
      ]
     },
     "metadata": {
      "needs_background": "light"
     },
     "output_type": "display_data"
    }
   ],
   "source": [
    "#================= Fitted model and the residuls\n",
    "plt.figure(figsize = (6,5))\n",
    "plt.errorbar(x, d, yerr=noise_data, fmt='o', capsize=3, capthick=2,c=\"r\",lw=1)\n",
    "plt.plot(x,d_fitted,linewidth=2,linestyle='dashed',  marker=\"o\",c=\"g\")\n",
    "plt.legend(['$t$','$error bar$'])\n",
    "plt.title('Data, fitted model and Residuals',fontweight='bold',fontsize=12)\n",
    "plt.xlabel('x(km)',fontweight='bold',fontsize=12)\n",
    "plt.ylabel('t(s)',fontweight='bold',fontsize=12)\n",
    "plt.minorticks_on()\n",
    "plt.grid(linestyle=':', linewidth=0.5, color='k')\n",
    "plt.show()"
   ]
  },
  {
   "attachments": {},
   "cell_type": "markdown",
   "id": "f1ea9b25",
   "metadata": {},
   "source": [
    "## Q2\n",
    "\n",
    "There is a high negative correlation of -0.9179 between the model parameter, $t_0$ and $s_2$. These means the increase in the parameter values is inversely proportional. One increases as the other decreases. Thus, they cannot increase together. The correlation along the leading diagonal is perfect (i.e. this is expected) because it defines the correlation between a parameter and itself.  "
   ]
  },
  {
   "cell_type": "code",
   "execution_count": 8,
   "id": "de071723",
   "metadata": {},
   "outputs": [
    {
     "name": "stdout",
     "output_type": "stream",
     "text": [
      "The correlation matrix is:\n",
      "\n",
      "[[ 1.         -0.91793986]\n",
      " [-0.91793986  1.        ]]\n"
     ]
    }
   ],
   "source": [
    "#================= Covariance matrix \n",
    "GG = G.T@G\n",
    "cov_m_L2 = (0.1**2)*np.linalg.inv(GG)\n",
    "cov_m_L2\n",
    "\n",
    "#================= Correlation matrix\n",
    "sd = np.sqrt(np.diag(cov_m_L2)).reshape(2,1)\n",
    "\n",
    "corr_matrix = np.divide(cov_m_L2,(sd*sd.T))\n",
    "print(f'The correlation matrix is:\\n\\n{corr_matrix}')"
   ]
  },
  {
   "cell_type": "code",
   "execution_count": 9,
   "id": "ee7e8ece",
   "metadata": {},
   "outputs": [],
   "source": [
    "# m_true = np.linalg.solve(G, d)"
   ]
  },
  {
   "attachments": {},
   "cell_type": "markdown",
   "id": "fc1346a2",
   "metadata": {},
   "source": [
    "## Q3\n",
    "\n",
    "The error ellipsoid decreases from left to right in the ($t_0$, $s_2$) plane. This reflects the negative correlation between the two parameters as already seen in the question above. This also means the errors are not independent. It can also be noticed that the parameter values ($t_0$, $s_2$) are located in the middle of the error ellipsoid. "
   ]
  },
  {
   "cell_type": "code",
   "execution_count": 10,
   "id": "3d25f985",
   "metadata": {},
   "outputs": [
    {
     "data": {
      "image/png": "[encoded data removed]",
      "text/plain": [
       "<Figure size 432x360 with 1 Axes>"
      ]
     },
     "metadata": {
      "needs_background": "light"
     },
     "output_type": "display_data"
    }
   ],
   "source": [
    "#================= \n",
    "def plot_ellipse(DELTA2, C, m):\n",
    "    n = 10000\n",
    "    theta = np.linspace(0, 2*np.pi, n)\n",
    "    xhat = np.column_stack((np.cos(theta), np.sin(theta)))\n",
    "    Cinv = np.linalg.inv(C)\n",
    "    r = np.zeros((n, 2))\n",
    "    for i in range(n):\n",
    "        r[i,:] = np.sqrt(DELTA2 / (xhat[i,:].dot(Cinv).dot(xhat[i,:].T))) * xhat[i,:]\n",
    "    plt.figure(figsize=(6,5))\n",
    "    plt.plot(m[0] + r[:,0], m[1] + r[:,1])\n",
    "    # plt.axvline(m[0], color='r')\n",
    "    # plt.axhline(m[1], color='r')\n",
    "    plt.ylim(0.205, 0.235)\n",
    "    # plt.axis('tight')\n",
    "    # plt.axis('equal')\n",
    "    plt.title(r'Error ellipsoid for the least square solution ($t_0$, $s_2$)')\n",
    "    plt.xlabel(r'$t_0$ (s)')\n",
    "    plt.ylabel(r'$s_2$ (s/km)')\n",
    "    \n",
    "    \n",
    "DELTA2 = stats.distributions.chi2.ppf(0.95,2)\n",
    "DELTA2\n",
    "m = m_L2\n",
    "C = cov_m_L2\n",
    "plot_ellipse(DELTA2, C, m)   "
   ]
  },
  {
   "attachments": {},
   "cell_type": "markdown",
   "id": "32b2343e",
   "metadata": {},
   "source": [
    "It can be said that the parameters are significant since none of the CIs contain zero (0). This means the true population parameter values are different from zero."
   ]
  },
  {
   "cell_type": "code",
   "execution_count": 11,
   "id": "0ee942e7",
   "metadata": {},
   "outputs": [
    {
     "name": "stdout",
     "output_type": "stream",
     "text": [
      "CI for t_0 is: [1.8306, 2.234]\n",
      "CI for s_2 is: [0.2089, 0.2316]\n"
     ]
    }
   ],
   "source": [
    "#================= 95% Confindence Inveterval\n",
    "def CI_95_(m_L2, cov_m_L2):\n",
    "    standard_error = np.sqrt(np.diag(cov_m_L2))\n",
    "    lower_ = m_L2 - 1.96*standard_error\n",
    "    upper_ = m_L2 + 1.96*standard_error\n",
    "    return lower_, upper_\n",
    "\n",
    "lower_, upper_ = CI_95_(m_L2, cov_m_L2)\n",
    "# print(\"Lower bounds:\", lower_)\n",
    "# print(\"Upper bounds:\", upper_)\n",
    "print(\"CI for t_0 is:\", [np.round(lower_[0], 4), np.round(upper_[0], 4)])\n",
    "print(\"CI for s_2 is:\", [np.round(lower_[1], 4), np.round(upper_[1], 4)])"
   ]
  },
  {
   "attachments": {},
   "cell_type": "markdown",
   "id": "899aeaef",
   "metadata": {},
   "source": [
    "## Q4\n",
    "\n",
    "Null hypothesis: $\\chi^2_{obs} \\sim \\chi^2(m-n = 4)$\n",
    "\n",
    "Decision rule: Reject the null hypothesis if p-value $\\approx 0$ or p-value $\\approx 1$\n",
    "\n",
    "In the ouput below, we reject the null hypothesis since the p-value = 0.0008799 is very close to zero (0) and conclude that the $\\chi^2_{obs}$ does not follow the theoretical $\\chi^2$ distribution with degrees of freedom 4. This suggests the mathematical model is incorrect. Perhaps, some of the physics of the problem are missing from the model."
   ]
  },
  {
   "cell_type": "code",
   "execution_count": 12,
   "id": "69e6fca1",
   "metadata": {},
   "outputs": [
    {
     "name": "stdout",
     "output_type": "stream",
     "text": [
      "Chi-square value: 18.75018390401005\n",
      "Chi-square p-value: 0.0008799160761214786\n"
     ]
    }
   ],
   "source": [
    "#================= Computing chi-square observed and p-value\n",
    "def chi_square(G, m_L2, d, noise_data, dof):\n",
    "    residuals = G.dot(m_L2) - d\n",
    "    chi2 = np.linalg.norm(residuals/noise_data)**2 #======= chi-square observed \n",
    "    p = 1 - stats.chi2.cdf(chi2, dof) #======= p-value\n",
    "    print(\"Chi-square value:\", chi2)\n",
    "    print(\"Chi-square p-value:\", p)\n",
    "    \n",
    "m=6; n=2; dof = m-n\n",
    "chi_square(G, m_L2, d, noise_data, dof)"
   ]
  },
  {
   "attachments": {},
   "cell_type": "markdown",
   "id": "1ac67ad3",
   "metadata": {},
   "source": [
    "## Q5\n",
    "\n",
    "The histogram below represents the $\\chi^2$ for the 1000 Monte Carlo simulations. The y-axis of the histogrom is plotted in terms of the densities instead of frequencies. We then overlayed the density plot of the theoretical $\\chi^2$ with degrees of freedom 4 over the histogram. As can be seen from the plot, there is a reasonable agreement between the data $\\chi^2$ densities from the Monte Carlo simulations and that of the theoretical $\\chi^2$ densities with degrees of freedom 4."
   ]
  },
  {
   "cell_type": "code",
   "execution_count": 13,
   "id": "8d342c13",
   "metadata": {
    "scrolled": false
   },
   "outputs": [
    {
     "name": "stdout",
     "output_type": "stream",
     "text": [
      "2-norm model predicted data:\n"
     ]
    },
    {
     "data": {
      "image/png": "[encoded data removed]",
      "text/plain": [
       "<Figure size 432x216 with 1 Axes>"
      ]
     },
     "metadata": {
      "needs_background": "light"
     },
     "output_type": "display_data"
    }
   ],
   "source": [
    "# The baseline data set generated by the 2-norm model\n",
    "print(\"2-norm model predicted data:\")\n",
    "db = G.dot(m_L2)\n",
    "\n",
    "# Number of realizations for Monte Carlo\n",
    "NR = 1000\n",
    "M = 6\n",
    "# Initialize the arrays to store the results\n",
    "mr2 = np.zeros((2,NR))\n",
    "chi2r = np.zeros(NR)\n",
    "\n",
    "for i in range(NR):\n",
    "    # Generate the data vector for the ith Monte Carlo data set\n",
    "    dr = db + noise_data * np.random.randn(M)\n",
    "    # Calculate the weighted data vector\n",
    "    dw1 = dr / noise_data\n",
    "    # Find the 2-norm model for the ith Monte Carlo data set, stored as a column of mr2\n",
    "    mr2[:,i] = np.linalg.lstsq(Gw, dw1,rcond=None)[0]\n",
    "    # Calculate the chi-square value for the ith Monte Carlo data set\n",
    "    chi2r[i] = np.linalg.norm((G.dot(mr2[:, i]) - dr) / noise_data) ** 2\n",
    "\n",
    "# Histogram the chi2 values for the Monte Carlo realizations and compare them with the chi2 PDF\n",
    "plt.figure(figsize=(6,3))\n",
    "\n",
    "# Get the population of each of the NBIN bins for scaling the chi2pdf plot\n",
    "NBIN = 20\n",
    "plt.hist(chi2r, NBIN, density = True)\n",
    "#axs.set_xlabel(r\"$\\chi^2_{obs}$\")\n",
    "# axs[0].set_ylabel(\"N\")\n",
    "plt.figure\n",
    "xx = np.arange(0, 20, 0.1)\n",
    "dof = 4\n",
    "chitheo = chi2.pdf(xx, dof)\n",
    "plt.plot(xx, chitheo)\n",
    "plt.title(\"Chi-square distribution\")\n",
    "plt.ylabel(r\"$\\chi^2(\\nu=4, x)$ PDF\")\n",
    "plt.xlabel(\"x\")\n",
    "# axs[1].set_ylim([0, np.max(chitheo)])\n",
    "\n",
    "plt.tight_layout()\n",
    "plt.show()"
   ]
  },
  {
   "attachments": {},
   "cell_type": "markdown",
   "id": "380e3714",
   "metadata": {},
   "source": [
    "## Q6\n",
    "\n",
    "The p-value is not consistent with the theoretical modelling; however, the Monte Carlo $\\chi^2$ is consistent with the theoretical modelling. The p-value suggests the mathematical model might be incorrect. One possibility could be that the model is affected by some outlier(s)."
   ]
  },
  {
   "attachments": {},
   "cell_type": "markdown",
   "id": "2163688d",
   "metadata": {},
   "source": [
    "## Q7\n",
    "\n",
    "The plot below and the one in Q1 look very similar. In both cases the last data point in the upper right corner seems to be an outlier. It appears far from its predicted value than any other point in the data in both plots."
   ]
  },
  {
   "cell_type": "code",
   "execution_count": 14,
   "id": "1ce60416",
   "metadata": {},
   "outputs": [
    {
     "data": {
      "text/plain": [
       "array([2.17863596, 0.20789516])"
      ]
     },
     "execution_count": 14,
     "metadata": {},
     "output_type": "execute_result"
    }
   ],
   "source": [
    "def irls(A, b, tolr, tolx, p, maxiter):\n",
    "    \"\"\"\n",
    "    Perform Iteratively Reweighted Least Squares (IRLS) \n",
    "    algorithm on a matrix A and a vector b.\n",
    "\n",
    "    Parameters:\n",
    "    A (numpy.ndarray): Input matrix of shape (m, n).\n",
    "    b (numpy.ndarray): Input vector of shape (m,).\n",
    "    tolr (float): Tolerance for the residuals.\n",
    "    tolx (float): Tolerance for the solution x.\n",
    "    p (float): Parameter in the weight function.\n",
    "    maxiter (int): Maximum number of iterations.\n",
    "    \n",
    "    Returns:\n",
    "    numpy.ndarray: Solution vector x of shape (n,).\n",
    "\n",
    "    Raises:\n",
    "    Warning: If the maximum number of iterations is exceeded.\n",
    "    \"\"\"\n",
    "    [m, n] = np.shape(A)\n",
    "    R = np.eye(m)  #======= initialize the weight matrix R\n",
    "    x = np.linalg.lstsq(A, b, rcond=None)[0]  #======= initialize the solution vector x\n",
    "    iter = 1\n",
    "    while (iter <= maxiter):\n",
    "        iter = iter + 1\n",
    "        r = np.dot(A, x) - b  #======= compute the residuals\n",
    "        for i in range(m):\n",
    "            if (np.abs(r[i]) < tolr).any():  #======= apply the weight function\n",
    "                r[i] = np.abs(tolr)**(p - 2)\n",
    "            else:\n",
    "                r[i] = np.abs(r[i])**(p - 2)\n",
    "        R = np.diag(r)  #======= update the weight matrix\n",
    "        H = np.dot(A.T, np.dot(R, A))\n",
    "        K = np.dot(A.T, np.dot(R, b))\n",
    "        newx = np.linalg.lstsq(H, K, rcond=None)[0]\n",
    "        if (np.linalg.norm(newx-x) / (1 + np.linalg.norm(x)) < tolx).any():  #======= check for convergence\n",
    "            x = newx\n",
    "            return x\n",
    "        else:\n",
    "            x = newx\n",
    "    raise Warning(\"irls maximum iterations exceeded.\")\n",
    "\n",
    "m_L1 = irls(Gw, dw, 1.0e-5, 1.0e-5, 1, 500)\n",
    "m_L1"
   ]
  },
  {
   "cell_type": "code",
   "execution_count": 15,
   "id": "bcf3dc2b",
   "metadata": {},
   "outputs": [],
   "source": [
    "d_m_L1 = m_L1[0] + m_L1[1]*x"
   ]
  },
  {
   "cell_type": "code",
   "execution_count": 16,
   "id": "bf87ecd4",
   "metadata": {},
   "outputs": [
    {
     "data": {
      "image/png": "[encoded data removed]",
      "text/plain": [
       "<Figure size 432x360 with 1 Axes>"
      ]
     },
     "metadata": {
      "needs_background": "light"
     },
     "output_type": "display_data"
    }
   ],
   "source": [
    "#================= Fitted model and the residuls\n",
    "plt.figure(figsize = (6,5))\n",
    "plt.errorbar(x, d, yerr=noise_data, fmt='o', capsize=3, capthick=2,c=\"r\",lw=1)\n",
    "plt.plot(x, d_m_L1 ,linewidth=2,linestyle='dashed',  marker=\"o\",c=\"g\")\n",
    "plt.legend(['$t$','$error bar$'])\n",
    "plt.title('Fitted model and Residuals',fontweight='bold',fontsize=12)\n",
    "plt.xlabel('x(km)',fontweight='bold',fontsize=12)\n",
    "plt.ylabel('t(s)',fontweight='bold',fontsize=12)\n",
    "plt.minorticks_on()\n",
    "plt.grid(linestyle=':', linewidth=0.5, color='k')\n",
    "plt.show()"
   ]
  },
  {
   "cell_type": "markdown",
   "id": "0765660b",
   "metadata": {},
   "source": [
    "## Q8"
   ]
  },
  {
   "cell_type": "code",
   "execution_count": 17,
   "id": "3a88e593",
   "metadata": {},
   "outputs": [
    {
     "data": {
      "text/plain": [
       "(2, 1000)"
      ]
     },
     "execution_count": 17,
     "metadata": {},
     "output_type": "execute_result"
    }
   ],
   "source": [
    "import numpy as np\n",
    "mr1 = np.zeros((2,NR))\n",
    "for i in range(NR):\n",
    "    # data vector for the ith Monte Carlo data set\n",
    "    dr = db + noise_data * np.random.randn(M)\n",
    "    # weighted data vector\n",
    "    dw_ = dr / noise_data\n",
    "    # 2-norm model for the ith Monte Carlo data set, stored as a column of mr\n",
    "    mr1[:, i] = irls(Gw, dw_, 1.0e-5, 1.0e-5, 1, 500)\n",
    "mr1.shape"
   ]
  },
  {
   "cell_type": "code",
   "execution_count": 18,
   "id": "1b010af5",
   "metadata": {},
   "outputs": [
    {
     "name": "stdout",
     "output_type": "stream",
     "text": [
      "m1 Monte Carlo modeling 95% confidence width (indiv. parameters): (0.26207609937786813, 0.014495005791098248)\n"
     ]
    }
   ],
   "source": [
    "NR = 1000\n",
    "# Estimate L1 confidence intervals\n",
    "# Mean model\n",
    "mrmean1 = np.mean(mr1, axis=1)\n",
    "\n",
    "# Find a range where 95% of the Monte Carlo models are found \n",
    "# relative to the mean\n",
    "m1sort = np.sort(np.abs(mr1[0,:] - mrmean1[0]))\n",
    "m2sort = np.sort(np.abs(mr1[1,:] - mrmean1[1]))\n",
    "m11conf = m1sort[int(0.95 * NR)]\n",
    "m12conf = m2sort[int(0.95 * NR)]\n",
    "\n",
    "print(\"m1 Monte Carlo modeling 95% confidence width (indiv. parameters): ({}, {})\".format(m11conf, m12conf))\n",
    "\n",
    "# m11range = [m_L1[0] - m11conf, m_L1[0], m_L1[0] + m11conf]\n",
    "# m12range = [m_L1[1] - m12conf, m_L1[1], m_L1[1] + m12conf]\n",
    "\n",
    "m11range = [m_L1[0] - m11conf, m_L1[0] + m11conf]\n",
    "m12range = [m_L1[1] - m12conf, m_L1[1] + m12conf]\n"
   ]
  },
  {
   "cell_type": "code",
   "execution_count": 19,
   "id": "4e8a8aa1",
   "metadata": {},
   "outputs": [
    {
     "name": "stdout",
     "output_type": "stream",
     "text": [
      "Monte Carlo CI for t_0:\n",
      " [1.9165598627265386, 2.440712061482275]\n"
     ]
    }
   ],
   "source": [
    "print(\"Monte Carlo CI for t_0:\\n\", m11range)"
   ]
  },
  {
   "cell_type": "code",
   "execution_count": 20,
   "id": "b76d0ee2",
   "metadata": {},
   "outputs": [
    {
     "name": "stdout",
     "output_type": "stream",
     "text": [
      "Monte Carlo CI for s_2:\n",
      " [0.19340015549918882, 0.22239016708138531]\n"
     ]
    }
   ],
   "source": [
    "print(\"Monte Carlo CI for s_2:\\n\", m12range)"
   ]
  },
  {
   "attachments": {},
   "cell_type": "markdown",
   "id": "99fbea36",
   "metadata": {},
   "source": [
    "## Q9\n",
    "From the 1-norm misfit values below, the last data point seem to be an outlier since the deviation between the actual and predicted value is large. This is also evident in the plot of the predicted vs actual values above. "
   ]
  },
  {
   "cell_type": "code",
   "execution_count": 21,
   "id": "4c7ed3c8",
   "metadata": {},
   "outputs": [
    {
     "name": "stdout",
     "output_type": "stream",
     "text": [
      "1-norm misfit:\n",
      " [6.74930702e-02 7.27240490e-12 7.21385968e-03 1.85806930e-01\n",
      " 6.83275658e-12 4.61586140e-01]\n"
     ]
    }
   ],
   "source": [
    "residual_L1 = abs((d-G@m_L1))\n",
    "print(\"1-norm misfit:\\n\", residual_L1)"
   ]
  },
  {
   "cell_type": "code",
   "execution_count": 22,
   "id": "266ca134",
   "metadata": {},
   "outputs": [
    {
     "data": {
      "text/plain": [
       "array([ 0.1394745 ,  0.02078537, -0.03762578, -0.2674149 , -0.13280402,\n",
       "        0.27758483])"
      ]
     },
     "execution_count": 22,
     "metadata": {},
     "output_type": "execute_result"
    }
   ],
   "source": [
    "residual_L2 = d - G@m_L2\n",
    "residual_L2"
   ]
  },
  {
   "cell_type": "markdown",
   "id": "c1cb830a",
   "metadata": {},
   "source": [
    "# Exercise 2"
   ]
  },
  {
   "cell_type": "markdown",
   "id": "c254c566",
   "metadata": {},
   "source": [
    "## Q1"
   ]
  },
  {
   "cell_type": "code",
   "execution_count": 23,
   "id": "cc0c9233",
   "metadata": {},
   "outputs": [],
   "source": [
    "N=10000\n",
    "a =1; b=1; sigma=1 \n",
    "G_ = np.array([[1,1],[1,2],[1,3],[1,4],[1,5]])\n",
    "m_ = np.array([1,1])\n",
    "x = np.linspace(1,5,5)"
   ]
  },
  {
   "cell_type": "code",
   "execution_count": 24,
   "id": "76256812",
   "metadata": {},
   "outputs": [
    {
     "data": {
      "text/plain": [
       "array([2, 3, 4, 5, 6])"
      ]
     },
     "execution_count": 24,
     "metadata": {},
     "output_type": "execute_result"
    }
   ],
   "source": [
    "d_True = G_@m_\n",
    "d_True"
   ]
  },
  {
   "cell_type": "code",
   "execution_count": 25,
   "id": "1dfc9b52",
   "metadata": {},
   "outputs": [],
   "source": [
    "m_ = 5; n_=2\n",
    "mL1 = np.zeros((2,N))\n",
    "residuals_L2 = np.zeros((5,N))\n",
    "chisqure_obs = np.zeros(N)\n",
    "sigma = 1\n",
    "std = np.zeros(N)\n",
    "C_ = np.zeros(((2,2,N)))\n",
    "a_tilda = np.zeros(N)\n",
    "b_tilda = np.zeros(N)\n",
    "\n",
    "for i in range(N):\n",
    "    d_ = a + b*x +sigma*np.random.randn(5)\n",
    "    mL1[:,i] = np.linalg.lstsq(G_, d_, rcond=None)[0]\n",
    "    residuals_L2[:,i] = G_@mL1[:,i] - d_\n",
    "    chisqure_obs[i] = np.linalg.norm((residuals_L2[:,i])/1)**2\n",
    "    std[i] = np.sum(residuals_L2[:,i]**2)/(m_-n_)\n",
    "    #print(C_.shape)\n",
    "\n",
    "for j in range(N):\n",
    "    C_ = std[j]*(np.linalg.inv(G_.T@G_))\n",
    "    a_tilda[j] = (mL1[:,j][0] - np.mean(mL1[0]))/(np.sqrt(C_[0][0]))\n",
    "    b_tilda[j] = (mL1[:,j][1] - np.mean(mL1[1]))/(np.sqrt(C_[1][1]))"
   ]
  },
  {
   "cell_type": "code",
   "execution_count": 26,
   "id": "7b9e0791",
   "metadata": {},
   "outputs": [
    {
     "data": {
      "image/png": "[encoded data removed]",
      "text/plain": [
       "<Figure size 576x288 with 2 Axes>"
      ]
     },
     "metadata": {
      "needs_background": "light"
     },
     "output_type": "display_data"
    }
   ],
   "source": [
    "plt.figure(figsize=(8,4))\n",
    "\n",
    "#=========== Histogram for a and b parameters\n",
    "NBIN = 100\n",
    "plt.subplot(1,2,1)\n",
    "plt.hist(mL1[0,:], NBIN)\n",
    "plt.ylabel(\"N\")\n",
    "plt.xlabel(\"a\")\n",
    "plt.title(\"Histogram for a parameter\")\n",
    "\n",
    "plt.subplot(1,2,2)\n",
    "plt.hist(mL1[1,:], NBIN)\n",
    "plt.ylabel(\"N\")\n",
    "plt.xlabel(\"b\")\n",
    "plt.title(\"Histogram for b parameter\")\n",
    "plt.show()"
   ]
  },
  {
   "cell_type": "markdown",
   "id": "f0c40ad4",
   "metadata": {},
   "source": [
    "# Q2"
   ]
  },
  {
   "cell_type": "code",
   "execution_count": 27,
   "id": "f9d3e08b",
   "metadata": {},
   "outputs": [
    {
     "name": "stdout",
     "output_type": "stream",
     "text": [
      "covariance matrix:\n",
      " [[ 1.1 -0.3]\n",
      " [-0.3  0.1]]\n",
      "Standard deviation for a: [1.04880885]\n",
      "Standard deviation for b: [0.31622777]\n"
     ]
    }
   ],
   "source": [
    "#================= Covariance matrix \n",
    "C = (1**2)*np.linalg.inv(G_.T@G_)\n",
    "print(\"covariance matrix:\\n\", C)\n",
    "\n",
    "#================= Standard Deviation\n",
    "sd_ = np.sqrt(np.diag(C)).reshape(2,1)\n",
    "print(\"Standard deviation for a:\", sd_[0])\n",
    "print(\"Standard deviation for b:\", sd_[1])"
   ]
  },
  {
   "attachments": {},
   "cell_type": "markdown",
   "id": "5f115ed2",
   "metadata": {},
   "source": [
    "## Q3\n",
    "\n",
    "The Q-Q plots below show that the standardized parameter estimates follow the standard normal distribution (i.e. $N(0,1)$), since both the sample and theoretical quantiles have a linear relationship or follow a straight line (i.e. along the 45 degrees line)."
   ]
  },
  {
   "cell_type": "code",
   "execution_count": 28,
   "id": "8e3d7563",
   "metadata": {},
   "outputs": [],
   "source": [
    "# Standardardized parameter estimates\n",
    "std_par_a = (mL1[0]-1)/sd_[0]\n",
    "std_par_b = (mL1[1]-1)/sd_[1]"
   ]
  },
  {
   "cell_type": "code",
   "execution_count": 29,
   "id": "66a3325a",
   "metadata": {},
   "outputs": [
    {
     "data": {
      "image/png": "[encoded data removed]",
      "text/plain": [
       "<Figure size 432x288 with 1 Axes>"
      ]
     },
     "metadata": {
      "needs_background": "light"
     },
     "output_type": "display_data"
    },
    {
     "data": {
      "image/png": "[encoded data removed]",
      "text/plain": [
       "<Figure size 432x288 with 1 Axes>"
      ]
     },
     "metadata": {
      "needs_background": "light"
     },
     "output_type": "display_data"
    }
   ],
   "source": [
    "sms.qqplot(std_par_a, line = 'q')\n",
    "plt.title(\"Q-Q plot for parameter a\")\n",
    "\n",
    "\n",
    "sms.qqplot(std_par_b, line = 'q')\n",
    "plt.title(\"Q-Q plot for parameter b\")\n",
    "plt.show()"
   ]
  },
  {
   "attachments": {},
   "cell_type": "markdown",
   "id": "07ed9ad6",
   "metadata": {},
   "source": [
    "## Q4\n",
    "From the Q-Q plot below shows that the norm 2 residuals of the solution in 1 follow the theoretical $\\chi^2$ distribution with degrees of freedom 3, since both the sample and theoretical quantiles have a linear relationship or follow a straight line (i.e. along the 45 degrees line). Even though a few points in the top-right corner deviate from the 45 degrees line. we can still conclude that $\\chi^2_{0bs} \\sim \\chi^2(\\nu = 3)$. \n"
   ]
  },
  {
   "cell_type": "code",
   "execution_count": 30,
   "id": "f3760c6e",
   "metadata": {},
   "outputs": [
    {
     "data": {
      "text/plain": [
       "array([1.38548896, 7.30873353, 2.36250704, ..., 9.79956933, 1.5587573 ,\n",
       "       0.69432437])"
      ]
     },
     "execution_count": 30,
     "metadata": {},
     "output_type": "execute_result"
    }
   ],
   "source": [
    "#============= Chi-square observed \n",
    "chisqure_obs"
   ]
  },
  {
   "cell_type": "code",
   "execution_count": 31,
   "id": "03ab29df",
   "metadata": {},
   "outputs": [
    {
     "data": {
      "image/png": "[encoded data removed]",
      "text/plain": [
       "<Figure size 288x288 with 1 Axes>"
      ]
     },
     "metadata": {
      "needs_background": "light"
     },
     "output_type": "display_data"
    }
   ],
   "source": [
    "x_ = np.linspace(0,25, 10)\n",
    "plt.figure(figsize=(4,4))\n",
    "theoretical_quantiles = chi2.ppf(((np.arange(1, N+1) - 0.5)/N), 3)\n",
    "plt.plot(x_,x_)\n",
    "plt.plot(theoretical_quantiles, np.sort(chisqure_obs), 'o', markersize=2, linewidth =2)\n",
    "plt.xlabel(\"Theoretical Quantiles\")\n",
    "plt.ylabel(\"Sample Quantiles\")\n",
    "plt.title(\"Q-Q plot for the norm 2 residuals\")\n",
    "plt.show()"
   ]
  },
  {
   "attachments": {},
   "cell_type": "markdown",
   "id": "69714ea8",
   "metadata": {},
   "source": [
    "## Q5\n",
    "\n",
    "From the histograms, the standardized parameters look centered around zero (0)."
   ]
  },
  {
   "cell_type": "code",
   "execution_count": 32,
   "id": "df71fbdd",
   "metadata": {},
   "outputs": [
    {
     "data": {
      "image/png": "[encoded data removed]",
      "text/plain": [
       "<Figure size 864x288 with 2 Axes>"
      ]
     },
     "metadata": {
      "needs_background": "light"
     },
     "output_type": "display_data"
    }
   ],
   "source": [
    "plt.figure(figsize=(12,4))\n",
    "\n",
    "#=========== Histogram for a and b parameters\n",
    "NBIN = 100\n",
    "plt.subplot(1,2,1)\n",
    "plt.hist(a_tilda, NBIN)\n",
    "plt.ylabel(\"N\")\n",
    "plt.xlabel(\"$\\\\tilde{a}$\")\n",
    "plt.title(\"Histogram for $\\\\tilde{a}$ parameter\")\n",
    "\n",
    "plt.subplot(1,2,2)\n",
    "plt.hist(b_tilda, NBIN)\n",
    "plt.ylabel(\"N\")\n",
    "plt.xlabel(\"$\\\\tilde{b}$\")\n",
    "plt.title(\"Histogram for $\\\\tilde{b}$ parameter\")\n",
    "plt.show()"
   ]
  },
  {
   "attachments": {},
   "cell_type": "markdown",
   "id": "9a2829f1",
   "metadata": {},
   "source": [
    "## Q6\n",
    "\n",
    "Below we use a probability plot instead of Q-Q plot. Note that a probability plot is also used to serve the same purpose as a Q-Q plot, except that the y-axis of a probability plot is scaled differently from that of a Q-Q plot. However, the explanation of the two plots is the same.\n",
    "\n",
    "In the plots below,, we conclude that the standardized parameter estimates follow the student t distribution with degrees of freedom 3. Even though, some of the points deviate from the 45 degrees line but we still have most of the points lying along or close to it. "
   ]
  },
  {
   "cell_type": "code",
   "execution_count": 33,
   "id": "4c866e17",
   "metadata": {},
   "outputs": [
    {
     "data": {
      "text/plain": [
       "[<matplotlib.lines.Line2D at 0x14bbc7d60>]"
      ]
     },
     "execution_count": 33,
     "metadata": {},
     "output_type": "execute_result"
    },
    {
     "data": {
      "image/png": "[encoded data removed]",
      "text/plain": [
       "<Figure size 432x288 with 1 Axes>"
      ]
     },
     "metadata": {
      "needs_background": "light"
     },
     "output_type": "display_data"
    }
   ],
   "source": [
    "# Create a Q-Q plot comparing the sample with a t-distribution with 10 degrees of freedom\n",
    "probplot(a_tilda, dist=t, sparams=(3,), plot=plt)\n",
    "\n",
    "# Add a line at the identity line for reference\n",
    "plt.plot([-3, 3], [-3, 3], color='gray', linestyle='--')"
   ]
  },
  {
   "cell_type": "code",
   "execution_count": 34,
   "id": "9a80a99e",
   "metadata": {},
   "outputs": [
    {
     "data": {
      "text/plain": [
       "[<matplotlib.lines.Line2D at 0x14baccc10>]"
      ]
     },
     "execution_count": 34,
     "metadata": {},
     "output_type": "execute_result"
    },
    {
     "data": {
      "image/png": "[encoded data removed]",
      "text/plain": [
       "<Figure size 432x288 with 1 Axes>"
      ]
     },
     "metadata": {
      "needs_background": "light"
     },
     "output_type": "display_data"
    }
   ],
   "source": [
    "# Create a Q-Q plot comparing the sample with a t-distribution with 10 degrees of freedom\n",
    "probplot(b_tilda, dist=t, sparams=(3,), plot=plt)\n",
    "\n",
    "# Add a line at the identity line for reference\n",
    "plt.plot([-3, 3], [-3, 3], color='gray', linestyle='--')"
   ]
  },
  {
   "cell_type": "code",
   "execution_count": null,
   "id": "5a247084",
   "metadata": {},
   "outputs": [],
   "source": []
  },
  {
   "attachments": {},
   "cell_type": "markdown",
   "id": "1adff74d",
   "metadata": {},
   "source": [
    "# THE END"
   ]
  }
 ],
 "metadata": {
  "kernelspec": {
   "display_name": "base",
   "language": "python",
   "name": "python3"
  },
  "language_info": {
   "codemirror_mode": {
    "name": "ipython",
    "version": 3
   },
   "file_extension": ".py",
   "mimetype": "text/x-python",
   "name": "python",
   "nbconvert_exporter": "python",
   "pygments_lexer": "ipython3",
   "version": "3.9.13"
  },
  "vscode": {
   "interpreter": {
    "hash": "73b766efa0014173724a8fac84a2452a1987e6c3c9d41fd847903027095a9672"
   }
  }
 },
 "nbformat": 4,
 "nbformat_minor": 5
}
