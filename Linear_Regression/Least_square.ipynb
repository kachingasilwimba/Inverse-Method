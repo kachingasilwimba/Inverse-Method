{
 "cells": [
  {
   "cell_type": "code",
   "execution_count": 16,
   "id": "7d6846c5",
   "metadata": {},
   "outputs": [],
   "source": [
    "import scipy.stats as stats\n",
    "import numpy as np\n",
    "import matplotlib.pyplot as plt\n",
    "from scipy.stats import t, norm"
   ]
  },
  {
   "cell_type": "markdown",
   "id": "da57fe6f",
   "metadata": {},
   "source": [
    "## Generating the Data"
   ]
  },
  {
   "cell_type": "code",
   "execution_count": 21,
   "id": "9bde0100",
   "metadata": {},
   "outputs": [],
   "source": [
    "#================= Generating G matrix\n",
    "rows = 40\n",
    "cols = 3\n",
    "t = np.linspace(0,4,40)\n",
    "m_true = np.array([0.81,16.21,-9.81]).T\n",
    "G  = np.zeros((rows,cols))\n",
    "\n",
    "G[:,0] = 1\n",
    "G[:,1] = t\n",
    "G[:,2] = 0.5*t**2"
   ]
  },
  {
   "cell_type": "code",
   "execution_count": 22,
   "id": "61ff6a0e",
   "metadata": {},
   "outputs": [
    {
     "data": {
      "text/plain": [
       "array([  1.97119839,   1.78011402,   6.42008764,   6.76565312,\n",
       "         6.56332652,   9.11374884,   9.20605149,  10.92657712,\n",
       "        11.76510148,  11.89243067,  13.04745299,  15.58807168,\n",
       "        13.34160046,  17.52684341,  13.2352184 ,  15.05937047,\n",
       "        13.27997893,  12.81816131,  15.89696322,  16.36221047,\n",
       "        13.24459734,  12.78502101,  13.73909975,  12.149714  ,\n",
       "        12.51079321,   9.86412666,   9.93581577,  10.19904478,\n",
       "         6.72446248,   6.98948354,   0.5729276 ,   0.98039081,\n",
       "        -0.32558916,  -2.50220313,  -2.15963581,  -6.26807702,\n",
       "        -2.46960621,  -8.47274606, -11.93017188, -13.62406551])"
      ]
     },
     "execution_count": 22,
     "metadata": {},
     "output_type": "execute_result"
    }
   ],
   "source": [
    "#================= Computing d_true\n",
    "d_true = G@m_true\n",
    "\n",
    "#================= Generating the noisy data d\n",
    "d = d_true + np.random.normal(0,2,40)\n",
    "d"
   ]
  },
  {
   "cell_type": "markdown",
   "id": "9d5f26c7",
   "metadata": {},
   "source": [
    "## Q1"
   ]
  },
  {
   "cell_type": "code",
   "execution_count": 23,
   "id": "08dc3f3f",
   "metadata": {},
   "outputs": [
    {
     "name": "stdout",
     "output_type": "stream",
     "text": [
      "P-value: 0.9008408013642508\n"
     ]
    }
   ],
   "source": [
    "#================= Computing chi-square observed \n",
    "data_error = d - d_true\n",
    "noise = 2*np.ones(40).T\n",
    "chisqure_observed = np.linalg.norm((d_true-d)/noise)**2\n",
    "chisqure_observed\n",
    "\n",
    "#================= Computing the p-value \n",
    "m = 40\n",
    "n = 3\n",
    "dof = m - n \n",
    "#================= p-value\n",
    "p_value = 1 - stats.chi2.cdf(chisqure_observed, dof)\n",
    "\n",
    "print(\"P-value:\", p_value)"
   ]
  },
  {
   "cell_type": "markdown",
   "id": "b3b0fd7f",
   "metadata": {},
   "source": [
    "This indicates that the fitted model is consistent with the assumptions on the modeling and data uncertainty."
   ]
  },
  {
   "cell_type": "markdown",
   "id": "574d340f",
   "metadata": {},
   "source": [
    "## Q2"
   ]
  },
  {
   "cell_type": "code",
   "execution_count": 5,
   "id": "25964157",
   "metadata": {},
   "outputs": [
    {
     "data": {
      "text/plain": [
       "array([[ 0.81567944, -0.80513937,  0.33122822],\n",
       "       [-0.80513937,  1.09117573, -0.50991713],\n",
       "       [ 0.33122822, -0.50991713,  0.25495857]])"
      ]
     },
     "execution_count": 5,
     "metadata": {},
     "output_type": "execute_result"
    }
   ],
   "source": [
    "#================= least squares solution (m_L2)\n",
    "m_L2 = np.linalg.lstsq(G,d,rcond=None)[0]\n",
    "\n",
    "#================= Covariance matrix \n",
    "GG = G.T@G\n",
    "cov_m_L2 = (2**2)*np.linalg.inv(GG)\n",
    "cov_m_L2"
   ]
  },
  {
   "cell_type": "code",
   "execution_count": 6,
   "id": "4f4b4ad8",
   "metadata": {},
   "outputs": [
    {
     "name": "stdout",
     "output_type": "stream",
     "text": [
      "Lower bounds: [  0.05652724  12.85449764 -10.30767821]\n",
      "Upper bounds: [ 3.5968742  16.94930444 -8.32833607]\n"
     ]
    }
   ],
   "source": [
    "#================= 95% Confindence Inveterval\n",
    "def CI_95(m_L2, cov_m_L2):\n",
    "    standard_error = np.sqrt(np.diag(cov_m_L2))\n",
    "    lower = m_L2 - 1.96*standard_error\n",
    "    upper = m_L2 + 1.96*standard_error\n",
    "    return lower, upper\n",
    "\n",
    "lower, upper = CI_95(m_L2, cov_m_L2)\n",
    "print(\"Lower bounds:\", lower)\n",
    "print(\"Upper bounds:\", upper)"
   ]
  },
  {
   "cell_type": "markdown",
   "id": "4c9a92e1",
   "metadata": {},
   "source": [
    "## Q3"
   ]
  },
  {
   "cell_type": "code",
   "execution_count": 7,
   "id": "0adbeb28",
   "metadata": {},
   "outputs": [
    {
     "data": {
      "text/plain": [
       "2.0261924630291093"
      ]
     },
     "execution_count": 7,
     "metadata": {},
     "output_type": "execute_result"
    }
   ],
   "source": [
    "from scipy.stats import t, norm\n",
    "#================= computing sigma squared\n",
    "simma_squared = (data_error.T@data_error)/(m-n)\n",
    "simma_squared\n",
    "\n",
    "#================= critical value\n",
    "critical_value = t.ppf(1 - 0.05/2,m-n)\n",
    "critical_value"
   ]
  },
  {
   "cell_type": "code",
   "execution_count": 8,
   "id": "f25f047b",
   "metadata": {},
   "outputs": [
    {
     "name": "stdout",
     "output_type": "stream",
     "text": [
      "Lower bounds: [-3.25446443e-03  1.27853534e+01 -1.03411011e+01]\n",
      "Upper bounds: [ 3.6566559  17.01844867 -8.29491323]\n"
     ]
    }
   ],
   "source": [
    "#================= 95% Confindence Inveterval\n",
    "def CI_95_(m_L2, cov_m_L2, critical_value):\n",
    "    standard_error = np.sqrt(np.diag(cov_m_L2))\n",
    "    lower_ = m_L2 - critical_value*standard_error\n",
    "    upper_ = m_L2 + critical_value*standard_error\n",
    "    return lower_, upper_\n",
    "\n",
    "lower_, upper_ = CI_95_(m_L2, cov_m_L2, critical_value)\n",
    "print(\"Lower bounds:\", lower_)\n",
    "print(\"Upper bounds:\", upper_)"
   ]
  },
  {
   "cell_type": "code",
   "execution_count": null,
   "id": "c28d2d26",
   "metadata": {},
   "outputs": [],
   "source": []
  }
 ],
 "metadata": {
  "kernelspec": {
   "display_name": "Python 3 (ipykernel)",
   "language": "python",
   "name": "python3"
  },
  "language_info": {
   "codemirror_mode": {
    "name": "ipython",
    "version": 3
   },
   "file_extension": ".py",
   "mimetype": "text/x-python",
   "name": "python",
   "nbconvert_exporter": "python",
   "pygments_lexer": "ipython3",
   "version": "3.9.13"
  }
 },
 "nbformat": 4,
 "nbformat_minor": 5
}
